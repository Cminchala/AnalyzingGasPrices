{
 "cells": [
  {
   "cell_type": "code",
   "execution_count": 1,
   "metadata": {},
   "outputs": [
    {
     "data": {
      "application/vnd.jupyter.widget-view+json": {
       "model_id": "dd7be9466b644627b310b5b2667ea0a7",
       "version_major": 2,
       "version_minor": 0
      },
      "text/plain": [
       "interactive(children=(FloatSlider(value=1.0, description='Amplitude:', max=5.0, min=0.1), FloatSlider(value=1.…"
      ]
     },
     "metadata": {},
     "output_type": "display_data"
    },
    {
     "data": {
      "text/plain": [
       "<function __main__.plot_wave(amplitude=1.0, frequency=1.0)>"
      ]
     },
     "execution_count": 1,
     "metadata": {},
     "output_type": "execute_result"
    }
   ],
   "source": [
    "import numpy as np\n",
    "import matplotlib.pyplot as plt\n",
    "import ipywidgets as widgets\n",
    "from ipywidgets import interact\n",
    "\n",
    "# Define the sine wave plotting function\n",
    "def plot_wave(amplitude=1.0, frequency=1.0):\n",
    "    x = np.linspace(0, 10, 1000)  # x-axis values (time)\n",
    "    y = amplitude * np.sin(2 * np.pi * frequency * x)  # y-axis values (sine wave)\n",
    "\n",
    "    # Clear the previous plot\n",
    "    plt.figure(figsize=(8, 4))\n",
    "\n",
    "    # Plot the sine wave\n",
    "    plt.plot(x, y, label=f'Amplitude: {amplitude}, Frequency: {frequency}')\n",
    "\n",
    "    # Add titles and labels\n",
    "    plt.title('Interactive Sine Wave')\n",
    "    plt.xlabel('Time')\n",
    "    plt.ylabel('Amplitude')\n",
    "    plt.grid(True)\n",
    "    plt.legend()\n",
    "\n",
    "    # Show the plot\n",
    "    plt.show()\n",
    "\n",
    "# Create interactive widgets for amplitude and frequency\n",
    "amplitude_slider = widgets.FloatSlider(min=0.1, max=5.0, step=0.1, value=1.0, description='Amplitude:')\n",
    "frequency_slider = widgets.FloatSlider(min=0.1, max=5.0, step=0.1, value=1.0, description='Frequency:')\n",
    "\n",
    "# Use interact to link the function with the sliders\n",
    "interact(plot_wave, amplitude=amplitude_slider, frequency=frequency_slider)\n"
   ]
  }
 ],
 "metadata": {
  "kernelspec": {
   "display_name": "Python 3",
   "language": "python",
   "name": "python3"
  },
  "language_info": {
   "codemirror_mode": {
    "name": "ipython",
    "version": 3
   },
   "file_extension": ".py",
   "mimetype": "text/x-python",
   "name": "python",
   "nbconvert_exporter": "python",
   "pygments_lexer": "ipython3",
   "version": "3.12.6"
  }
 },
 "nbformat": 4,
 "nbformat_minor": 2
}
